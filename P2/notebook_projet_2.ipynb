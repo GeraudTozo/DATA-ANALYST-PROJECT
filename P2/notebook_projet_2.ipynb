{
 "cells": [
  {
   "cell_type": "markdown",
   "id": "26b29ff6-06ef-4da5-a7f0-079f28f0684d",
   "metadata": {},
   "source": [
    "# Projet 2 : Explorer et comprendre les performances des employés"
   ]
  },
  {
   "cell_type": "markdown",
   "id": "29201452-b712-453c-b4a5-8c171a40f638",
   "metadata": {},
   "source": [
    "## 🎯 Contexte\n",
    "\n",
    "Dans un contexte de gestion RH, une entreprise souhaite mieux comprendre les performances de ses employés pour identifier :\n",
    "\n",
    "- Les écarts de performance entre les collaborateurs\n",
    "- Les profils à fort potentiel ou à risque\n",
    "- Les leviers d’amélioration organisationnels\n",
    "\n",
    "## 🧪 Objectif\n",
    "\n",
    "L’objectif de ce projet est de mener une **analyse descriptive et exploratoire des performances** des employés, à travers leurs caractéristiques démographiques, leur niveau d’engagement, leur satisfaction et leur statut professionnel.  \n",
    "Ce projet vise à comprendre les écarts de performance des employés afin d’identifier des profils atypiques et formuler des recommandations RH concrètes.\n",
    "Une attention particulière sera portée à la compréhension des **cas de départs**, dans une logique d’**anticipation du turnover**.\n"
   ]
  },
  {
   "cell_type": "markdown",
   "id": "a0d3f4c7-2e86-48b9-b76f-189303c044f6",
   "metadata": {},
   "source": [
    "# 🔍 Exploration des données\n",
    "\n",
    "Dans cette étape, nous allons :\n",
    "- Charger et examiner le jeu de données RH\n",
    "- Comprendre la structure et les variables disponibles"
   ]
  },
  {
   "cell_type": "markdown",
   "id": "6bc9124a-9e5a-4caa-ac20-8f73dedc647c",
   "metadata": {},
   "source": [
    "## Librairies"
   ]
  },
  {
   "cell_type": "code",
   "execution_count": null,
   "id": "279f22ca-d644-4392-a21d-1c55c56b5967",
   "metadata": {},
   "outputs": [],
   "source": [
    "# Librairies\n",
    "import os\n",
    "import pandas as pd\n",
    "import numpy as np\n",
    "import seaborn as sns\n",
    "import matplotlib.pyplot as plt\n",
    "import scipy.stats as stats\n",
    "from scipy.stats import pearsonr\n",
    "from scipy.stats import spearmanr\n",
    "from tabulate import tabulate"
   ]
  },
  {
   "cell_type": "markdown",
   "id": "9ecfca17-7c88-412f-ad6c-06799198782d",
   "metadata": {},
   "source": [
    "## Informations sur la data frame"
   ]
  },
  {
   "cell_type": "code",
   "execution_count": null,
   "id": "fbcfa482-46da-48e2-91c7-953657b0855b",
   "metadata": {},
   "outputs": [],
   "source": [
    "# Importation de la base de données\n",
    "if os.path.exists(\"HRDataset_v14.csv\"):\n",
    "    HR = pd.read_csv(\"HRDataset_v14.csv\")  # Local\n",
    "else:\n",
    "    url = \"https://raw.githubusercontent.com/GeraudTozo/DATA-ANALYST-PROJECT/refs/heads/main/P2/HRDataset_v14.csv\"\n",
    "    HR = pd.read_csv(url)  # Colab ou cloud\n",
    "\n",
    "# Visualisation du data set\n",
    "HR.head()"
   ]
  },
  {
   "cell_type": "markdown",
   "id": "c7c7a251-b2ae-4741-a627-223a1c317c2d",
   "metadata": {},
   "source": [
    "La base de donnée est composée alors de **311** individus caractérisés par **36** variables."
   ]
  },
  {
   "cell_type": "code",
   "execution_count": null,
   "id": "6ade40be-5bc1-4924-a6ff-deac0825255a",
   "metadata": {},
   "outputs": [],
   "source": [
    "# Selection des variables necessaires pour l'analyse en supprimant les autres variables \n",
    "HR=HR.drop(columns={'EmpID', 'MarriedID', 'MaritalStatusID','EmpStatusID', 'CitizenDesc', 'HispanicLatino', 'RaceDesc', 'FromDiversityJobFairID','PositionID', 'Position', 'State', 'Zip', 'DOB','DateofHire', 'DateofTermination', 'ManagerName', 'ManagerID','LastPerformanceReview_Date'})\n",
    "HR.head()"
   ]
  },
  {
   "cell_type": "code",
   "execution_count": null,
   "id": "15326939-04ac-4c37-ad55-e17122089ebf",
   "metadata": {},
   "outputs": [],
   "source": [
    "# Liste des variables\n",
    "HR.columns"
   ]
  },
  {
   "cell_type": "code",
   "execution_count": null,
   "id": "8900df56-7ef9-49d0-8b91-7b52d6ad0cf5",
   "metadata": {},
   "outputs": [],
   "source": [
    "# Les différents types de variables dans notre base de donnéess\n",
    "HR.dtypes"
   ]
  },
  {
   "cell_type": "code",
   "execution_count": null,
   "id": "7b7c4dc3-9abc-4265-a276-35f443095252",
   "metadata": {},
   "outputs": [],
   "source": [
    "# Analyse de l'ensemble des variables de la base de données\n",
    "HR.info()"
   ]
  },
  {
   "cell_type": "code",
   "execution_count": null,
   "id": "50451c5b-578c-42ca-961d-26d2dfd93416",
   "metadata": {},
   "outputs": [],
   "source": [
    "# Combien y a-t-il de valeurs différentes par colonne ? \n",
    "HR.nunique()"
   ]
  },
  {
   "cell_type": "code",
   "execution_count": null,
   "id": "d7f5031f-3816-4205-adb8-db20c4b142f9",
   "metadata": {},
   "outputs": [],
   "source": [
    "# Decompte de valeurs manquantes ou incomplètes par variables\n",
    "HR.isnull().sum()"
   ]
  },
  {
   "cell_type": "markdown",
   "id": "e71866de-4222-4a05-81c5-b6c6d4de0163",
   "metadata": {},
   "source": [
    "La base ne comporte pas de valeurs manquantes dans les variables."
   ]
  },
  {
   "cell_type": "markdown",
   "id": "936e841b-d1f1-48f4-b8b9-152db798f5af",
   "metadata": {},
   "source": [
    "## La detection des doublons"
   ]
  },
  {
   "cell_type": "code",
   "execution_count": null,
   "id": "4e0b7347-ce7b-4efe-9246-01882e3eb7eb",
   "metadata": {},
   "outputs": [],
   "source": [
    "# Compter les doublons\n",
    "HR.duplicated().sum()"
   ]
  },
  {
   "cell_type": "markdown",
   "id": "5f037aa0-00dc-4dce-9c1a-008b47d82024",
   "metadata": {},
   "source": [
    "Ce resultat démontre que notre base ne compte pas de doublons."
   ]
  },
  {
   "cell_type": "markdown",
   "id": "a15ea036-ec44-4080-9800-e95eb577d434",
   "metadata": {
    "jp-MarkdownHeadingCollapsed": true
   },
   "source": [
    "# 🧍‍♂️ Profil des employés\n",
    "\n",
    "Avant d’analyser les performances, observons d’abord le profil global des employés dans l’entreprise.\n",
    "\n",
    "Nous allons explorer :\n",
    "\n",
    "- La répartition par sexe\n",
    "- Le statut marital\n",
    "- Le statut professionnel\n",
    "- La répartition par département\n"
   ]
  },
  {
   "cell_type": "markdown",
   "id": "cddd80f3-37f2-41f6-b249-0f1856514064",
   "metadata": {
    "jp-MarkdownHeadingCollapsed": true
   },
   "source": [
    "## 👥 Sexe des employés"
   ]
  },
  {
   "cell_type": "code",
   "execution_count": null,
   "id": "00a6b6d7-923e-4ced-853a-2b281b51a496",
   "metadata": {},
   "outputs": [],
   "source": [
    "\n",
    "# Calcul des fréquences\n",
    "sex_counts = HR['Sex'].value_counts(normalize=True) * 100  # Pourcentages\n",
    "sex_labels = sex_counts.index\n",
    "sex_values = sex_counts.values\n",
    "\n",
    "# Barplot avec annotations\n",
    "plt.figure(figsize=(6,4))\n",
    "ax = sns.barplot(x=sex_labels, y=sex_values)\n",
    "\n",
    "# Annoter les barres avec les pourcentages\n",
    "for i, v in enumerate(sex_values):\n",
    "    ax.text(i, v + 1, f'{v:.1f} %', ha='center', fontweight='bold')\n",
    "\n",
    "plt.title('Répartition des employés par sexe (%)')\n",
    "plt.ylabel('Pourcentage')\n",
    "plt.xlabel('Sexe')\n",
    "plt.ylim(0, max(sex_values) + 10)\n",
    "plt.show()\n"
   ]
  },
  {
   "cell_type": "markdown",
   "id": "4a02c92e-bcd9-412b-a149-d86d58702b95",
   "metadata": {},
   "source": [
    "**Interprétation**\n",
    "\n",
    "On observe que la majorité des employés sont des femmes (56,6%). Cette information peut nous aider à détecter d’éventuels biais ou différences de performance selon le genre.\n"
   ]
  },
  {
   "cell_type": "markdown",
   "id": "efd87ce9-b3a3-4064-8125-072655e63752",
   "metadata": {
    "jp-MarkdownHeadingCollapsed": true
   },
   "source": [
    "## 💍 Statut Marital"
   ]
  },
  {
   "cell_type": "code",
   "execution_count": null,
   "id": "ae0f31e7-e630-4c1b-b8a4-abc07fb3d693",
   "metadata": {},
   "outputs": [],
   "source": [
    "# Calcul pour MaritalDesc\n",
    "marital_table = HR['MaritalDesc'].value_counts(normalize=True).mul(100).round(1).to_frame(name='Pourcentage')\n",
    "marital_table['Statut'] = marital_table.index\n",
    "\n",
    "# Barplot\n",
    "plt.figure(figsize=(7, 4))\n",
    "ax = sns.barplot(data=marital_table, x='Statut', y='Pourcentage')\n",
    "\n",
    "# Annotations\n",
    "for i, row in marital_table.iterrows():\n",
    "    ax.text(i, row['Pourcentage'] + 0.5, f\"{row['Pourcentage']}%\", ha='center', fontweight='bold')\n",
    "\n",
    "plt.title('Répartition des employés par statut marital (%)')\n",
    "plt.ylabel('Pourcentage')\n",
    "plt.xlabel('Statut marital')\n",
    "plt.xticks(rotation=45)\n",
    "plt.ylim(0, marital_table['Pourcentage'].max() + 5)\n",
    "plt.tight_layout()\n",
    "plt.show()\n"
   ]
  },
  {
   "cell_type": "markdown",
   "id": "04fd5919-cc65-41f6-b019-8867e1927426",
   "metadata": {},
   "source": [
    "**Interprétation**  \n",
    "La population des employés est majoritairement **célibataire (44,1 %)**, suivie de près par les **mariés (39,9 %)**.  Les statuts **divorcé (9,6 %)**, **séparé (3,9 %)** et **veuf (2,6 %)** sont plus minoritaires.\n",
    "\n",
    "Cette répartition pourra être prise en compte dans les comparaisons de performance, de satisfaction ou d’engagement entre groupes sociaux.\n"
   ]
  },
  {
   "cell_type": "markdown",
   "id": "715ef322-dd9f-4e99-b6aa-16d4280e8931",
   "metadata": {
    "jp-MarkdownHeadingCollapsed": true
   },
   "source": [
    "## 🏢 Répartition par département"
   ]
  },
  {
   "cell_type": "code",
   "execution_count": null,
   "id": "560456d5-f8b7-4b41-b465-9246d407cba9",
   "metadata": {},
   "outputs": [],
   "source": [
    "# Calcul pour Department\n",
    "dept_table = HR['Department'].value_counts(normalize=True).mul(100).round(1).to_frame(name='Pourcentage')\n",
    "dept_table['Département'] = dept_table.index\n",
    "\n",
    "# Barplot horizontal\n",
    "plt.figure(figsize=(8, 6))\n",
    "ax = sns.barplot(data=dept_table, y='Département', x='Pourcentage')\n",
    "\n",
    "for i, row in dept_table.iterrows():\n",
    "    ax.text(row['Pourcentage'] + 0.5, i, f\"{row['Pourcentage']}%\", va='center', fontweight='bold')\n",
    "\n",
    "plt.title('Répartition des employés par département (%)')\n",
    "plt.xlabel('Pourcentage')\n",
    "plt.ylabel('Département')\n",
    "plt.xlim(0, dept_table['Pourcentage'].max() + 10)\n",
    "plt.tight_layout()\n",
    "plt.show()"
   ]
  },
  {
   "cell_type": "markdown",
   "id": "ab172fe3-0e4c-4e52-9e48-df41299b9c5d",
   "metadata": {},
   "source": [
    "**Interprétation :**  \n",
    "La majorité des employés (67,2 %) travaillent dans le département **Production**, ce qui en fait le cœur opérationnel de l’entreprise.  \n",
    "Viennent ensuite les services **IT/IS (16,1 %)** et **Sales (10,0 %)**, qui représentent ensemble près d’un employé sur quatre.\n",
    "\n",
    "Les autres départements — **Software Engineering (3,5 %)**, **Admin Offices (2,9 %)** et **Executive Office (0,3 %)** — sont beaucoup plus restreints.\n",
    "\n",
    "Cette forte concentration dans quelques services devra être prise en compte dans l’analyse des performances, car elle peut biaiser la moyenne générale ou masquer des particularités propres à chaque équipe.\n"
   ]
  },
  {
   "cell_type": "markdown",
   "id": "797078a8-fa7a-453a-8335-6f686ba9c2df",
   "metadata": {
    "jp-MarkdownHeadingCollapsed": true
   },
   "source": [
    "## 💼 Statut professionnel"
   ]
  },
  {
   "cell_type": "code",
   "execution_count": null,
   "id": "60b76321-d329-45ed-bf88-6f9c8e60028a",
   "metadata": {},
   "outputs": [],
   "source": [
    "# Calcul pour EmploymentStatus\n",
    "status_table = HR['EmploymentStatus'].value_counts(normalize=True).mul(100).round(1).to_frame(name='Pourcentage')\n",
    "status_table['Statut'] = status_table.index\n",
    "\n",
    "# Barplot\n",
    "plt.figure(figsize=(6, 4))\n",
    "ax = sns.barplot(data=status_table, x='Statut', y='Pourcentage')\n",
    "\n",
    "for i, row in status_table.iterrows():\n",
    "    ax.text(i, row['Pourcentage'] + 0.5, f\"{row['Pourcentage']}%\", ha='center', fontweight='bold')\n",
    "\n",
    "plt.title(\"Répartition des employés par statut d'emploi (%)\")\n",
    "plt.ylabel('Pourcentage')\n",
    "plt.xlabel('Statut d\\'emploi')\n",
    "plt.xticks(rotation=45)\n",
    "plt.ylim(0, status_table['Pourcentage'].max() + 5)\n",
    "plt.tight_layout()\n",
    "plt.show()"
   ]
  },
  {
   "cell_type": "markdown",
   "id": "a167e471-b8fe-4724-9d5b-6b4c4cedc8b2",
   "metadata": {},
   "source": [
    "**Interprétation :**  \n",
    "Environ **66,6 %** des employés sont actuellement en **activité** dans l’entreprise.  \n",
    "Près d’un tiers (28,3 %) ont **quitté volontairement** leur poste, ce qui peut indiquer un **turnover important**.  \n",
    "Enfin, **5,1 %** des employés ont été **licenciés pour motif disciplinaire**, un taux relativement faible mais à surveiller.\n",
    "\n",
    "Cette répartition met en lumière la nécessité de mieux comprendre les facteurs de départs volontaires (satisfaction, performance, etc.), qui seront approfondis dans une prochaine section."
   ]
  },
  {
   "cell_type": "markdown",
   "id": "56c3f3c8-62a9-4174-a280-248915df5390",
   "metadata": {
    "jp-MarkdownHeadingCollapsed": true
   },
   "source": [
    "## Synthèse du profil des employés\n",
    "\n",
    "À partir de l'analyse descriptive des variables démographiques et organisationnelles, nous pouvons dresser le profil moyen des employés de l’entreprise :\n",
    "\n",
    "- 👩‍💼 **Sexe** : La majorité des employés sont des **femmes** (56,6 %), contre 43,4 % d’hommes.\n",
    "- 💍 **Statut marital** : **44,1 %** des employés sont **célibataires**, 39,9 % sont **mariés**, les autres (divorcés, séparés, veufs) restent minoritaires.\n",
    "- 💼 **Statut professionnel** : **66,6 %** des employés sont actuellement **actifs** dans l’entreprise.\n",
    "- 🏭 **Département** : La répartition est très concentrée : **67,2 %** des employés sont dans le département **Production**, suivi de **IT/IS (16,1 %)** et **Sales (10 %)**.\n",
    "\n",
    "**Conclusion :**\n",
    "> Le profil type de l’employé est une **femme célibataire, active, travaillant dans la production**.  \n",
    "> Ce profil servira de référence pour évaluer les disparités de performance dans la prochaine section."
   ]
  },
  {
   "cell_type": "markdown",
   "id": "b178755c-72ae-4029-8ad8-4a874b3a3fe9",
   "metadata": {},
   "source": [
    "# 📈 Analyse des performances des employés\n",
    "Nous allons explorer les différences de performance entre les groupes d’employés selon des variables clés :\n",
    "- Sexe\n",
    "- Département\n",
    "- Statut professionnel\n",
    "- Statut marital\n",
    "\n",
    "Nous étudierons également la corrélation entre la performance et les variables telles que :\n",
    "- L'engagement\n",
    "- La satisfaction\n",
    "- Le salaire"
   ]
  },
  {
   "cell_type": "markdown",
   "id": "6a617a1f-ceec-441d-8cb4-03c6d94faeae",
   "metadata": {
    "jp-MarkdownHeadingCollapsed": true
   },
   "source": [
    "## Distribution globale des performances"
   ]
  },
  {
   "cell_type": "code",
   "execution_count": null,
   "id": "dea79e4a-575b-46f6-81b4-df946bd8dff8",
   "metadata": {},
   "outputs": [],
   "source": [
    "perf_table = HR['PerformanceScore'].value_counts(normalize=True).mul(100).round(1).to_frame(name='Pourcentage')\n",
    "perf_table['Performance'] = perf_table.index\n",
    "\n",
    "plt.figure(figsize=(6,4))\n",
    "ax = sns.barplot(data=perf_table, x='Performance', y='Pourcentage')\n",
    "\n",
    "for i, row in perf_table.iterrows():\n",
    "    ax.text(i, row['Pourcentage'] + 1, f\"{row['Pourcentage']}%\", ha='center', fontweight='bold')\n",
    "\n",
    "plt.title('Répartition des employés par niveau de performance (%)')\n",
    "plt.xlabel('Niveau de performance')\n",
    "plt.ylabel('Pourcentage')\n",
    "plt.ylim(0, perf_table['Pourcentage'].max() + 10)\n",
    "plt.tight_layout()\n",
    "plt.show()"
   ]
  },
  {
   "cell_type": "markdown",
   "id": "e7c5c0d5-a236-4a05-8ecf-621890c5dbf1",
   "metadata": {},
   "source": [
    "**Interprétation :**\n",
    "\n",
    "Une grande majorité des employés (**78,1 %**) sont évalués comme **“Fully Meets Expectations”**, ce qui indique que l’entreprise fonctionne sur une base solide avec des employés qui atteignent les objectifs fixés.\n",
    "\n",
    "Cependant, seulement **11,9 %** des employés **dépassent les attentes (“Exceeds”)**, ce qui peut suggérer un potentiel de progression plus limité ou un système d’évaluation exigeant pour accéder à une note élevée.\n",
    "\n",
    "À l’inverse, **10 %** des employés sont dans des catégories préoccupantes :\n",
    "- **5,8 %** sont en “Needs Improvement”\n",
    "- **4,2 %** sont sous “Performance Improvement Plan (PIP)”\n",
    "\n",
    "Ces derniers devraient faire l’objet d’un suivi ciblé, car ils peuvent impacter la productivité globale, mais aussi signaler des difficultés d’intégration, de formation, ou de management."
   ]
  },
  {
   "cell_type": "markdown",
   "id": "a5b3ef40-6965-446b-a5fd-769e78df4453",
   "metadata": {
    "jp-MarkdownHeadingCollapsed": true
   },
   "source": [
    "## 👥 Performance selon le sexe des employés"
   ]
  },
  {
   "cell_type": "code",
   "execution_count": null,
   "id": "54c4f942-b942-461b-b953-a88488838f1f",
   "metadata": {},
   "outputs": [],
   "source": [
    "# Analyse pour la variable Sex\n",
    "\n",
    "# 1. Moyenne des scores de performance par sexe\n",
    "sex_perf = HR.groupby('Sex')['PerfScoreID'].mean().round(2).reset_index()\n",
    "\n",
    "plt.figure(figsize=(8, 4))\n",
    "sns.barplot(data=sex_perf, x='Sex', y='PerfScoreID', palette='pastel')\n",
    "plt.title(\"Score moyen de performance par sexe\")\n",
    "plt.ylabel(\"Score moyen (1=PIP, 4=Exceeds)\")\n",
    "plt.xlabel(\"Sexe\")\n",
    "plt.ylim(0, 4.5)\n",
    "plt.tight_layout()\n",
    "plt.show()\n",
    "\n",
    "# 2. Répartition détaillée des scores par sexe\n",
    "plt.figure(figsize=(8, 5))\n",
    "sns.countplot(data=HR, x='Sex', hue='PerformanceScore', palette='Set2')\n",
    "plt.title(\"Répartition des scores de performance par sexe\")\n",
    "plt.xlabel(\"Sexe\")\n",
    "plt.ylabel(\"Nombre d'employés\")\n",
    "plt.legend(title=\"Score de performance\")\n",
    "plt.tight_layout()\n",
    "plt.show()\n"
   ]
  },
  {
   "cell_type": "markdown",
   "id": "1f133672-987f-4fe4-b5d1-16aa0013a59b",
   "metadata": {},
   "source": [
    "**Score moyen**\n",
    "\n",
    "Les femmes affichent un score moyen de performance de 3.0, légèrement supérieur à celui des hommes qui est de 2.8 (sur une échelle de 1 à 4). Cela suggère que globalement, les femmes ont une performance un peu meilleure en moyenne.\n",
    "\n",
    "**Analyse** \n",
    "\n",
    "On remarque que la proportion d'hommes dans les catégories les plus basses (“PIP” et “Needs Improvement”) est presque deux fois plus élevée que chez les femmes (12.6% vs 7.9%).\n",
    "À l’inverse, les femmes sont plus nombreuses à être dans la catégorie “Fully Meets” (80.7% vs 74.8%), ce qui contribue à leur moyenne plus élevée.\n",
    "La part des meilleurs scores (“Exceeds”) est légèrement plus importante chez les hommes (12.6% vs 11.4%), mais la différence est faible.\n",
    "\n",
    "**Conclusion**\n",
    "\n",
    "Cette analyse suggère que les femmes dans l’entreprise tendent à mieux performer en moyenne, avec moins de cas critiques, même si les meilleurs éléments sont répartis de façon assez équilibrée entre sexes.\n",
    "Il pourrait être intéressant d’approfondir avec une analyse croisée par département pour mieux comprendre ces écarts."
   ]
  },
  {
   "cell_type": "markdown",
   "id": "4006474b-39dc-46db-a958-b4b2ed2e43d4",
   "metadata": {
    "jp-MarkdownHeadingCollapsed": true
   },
   "source": [
    "## 🏢 Performance selon la Répartition par département des employés"
   ]
  },
  {
   "cell_type": "code",
   "execution_count": null,
   "id": "8a27fd60-b19e-47ff-a12f-98718d1cfb61",
   "metadata": {},
   "outputs": [],
   "source": [
    "# Analyse pour la variable Department\n",
    "\n",
    "# 1. Moyenne des scores de performance par département\n",
    "dept_perf = HR.groupby('Department')['PerfScoreID'].mean().round(2).reset_index()\n",
    "\n",
    "plt.figure(figsize=(10, 5))\n",
    "sns.barplot(data=dept_perf, x='Department', y='PerfScoreID', palette='coolwarm')\n",
    "plt.title(\"Score moyen de performance par département\")\n",
    "plt.ylabel(\"Score moyen (1=PIP, 4=Exceeds)\")\n",
    "plt.xlabel(\"Département\")\n",
    "plt.xticks(rotation=45)\n",
    "plt.ylim(0, 4.5)\n",
    "plt.tight_layout()\n",
    "plt.show()\n",
    "\n",
    "# 2. Répartition détaillée des scores par département\n",
    "plt.figure(figsize=(10, 6))\n",
    "sns.countplot(data=HR, x='Department', hue='PerformanceScore', palette='Set2')\n",
    "plt.title(\"Répartition des scores de performance par département\")\n",
    "plt.xlabel(\"Département\")\n",
    "plt.ylabel(\"Nombre d'employés\")\n",
    "plt.xticks(rotation=45)\n",
    "plt.legend(title=\"Score de performance\")\n",
    "plt.tight_layout()\n",
    "plt.show()\n"
   ]
  },
  {
   "cell_type": "markdown",
   "id": "6deafbf7-2438-4d30-8984-10926357f5ca",
   "metadata": {},
   "source": [
    "Les départements Admin Offices et Executive Office ont un score moyen de 2.9, avec 100 % des employés “Fully Meets” (pas de cas faibles ni d’exceptions).\n",
    "\n",
    "IT/IS et Software Engineering affichent les scores moyens les plus élevés (3.0), avec une bonne part de “Exceeds” (12 % et 18 %).\n",
    "\n",
    "Production et Sales ont des moyennes légèrement plus basses (2.8–2.9), avec plus de cas “PIP” et “Needs Improvement”, surtout dans Sales (12.9% PIP).\n",
    "\n",
    "Les départements techniques ont tendance à mieux performer, tandis que Sales présente plus de cas faibles, ce qui pourrait justifier un accompagnement ciblé.\n",
    "\n",
    "En somme, il serait intéressant d’approfondir l’analyse dans les départements **Sales** et **Production** où les taux d’employés en difficulté sont plus élevés, pour identifier des leviers d’amélioration.  \n",
    "À l’inverse, **Software Engineering** semble attirer et/ou retenir des profils très performants, mais doit également gérer des écarts importants de performance."
   ]
  },
  {
   "cell_type": "markdown",
   "id": "a892eb92-0fba-496a-b63b-0881e501ea4b",
   "metadata": {
    "jp-MarkdownHeadingCollapsed": true
   },
   "source": [
    "## 💼 Performance selon le statut professionnel des employés"
   ]
  },
  {
   "cell_type": "code",
   "execution_count": null,
   "id": "0235a923-d2d4-448a-96fc-d0e0d6b02308",
   "metadata": {},
   "outputs": [],
   "source": [
    "# Analyse pour la variable EmploymentStatus\n",
    "\n",
    "# 1. Moyenne des scores de performance par statut professionnel\n",
    "empstat_perf = HR.groupby('EmploymentStatus')['PerfScoreID'].mean().round(2).reset_index()\n",
    "\n",
    "plt.figure(figsize=(8, 4))\n",
    "sns.barplot(data=empstat_perf, x='EmploymentStatus', y='PerfScoreID', palette='muted')\n",
    "plt.title(\"Score moyen de performance selon le statut professionnel\")\n",
    "plt.ylabel(\"Score moyen (1=PIP, 4=Exceeds)\")\n",
    "plt.xlabel(\"Statut professionnel\")\n",
    "plt.xticks(rotation=45)\n",
    "plt.ylim(0, 4.5)\n",
    "plt.tight_layout()\n",
    "plt.show()\n",
    "\n",
    "# 2. Répartition détaillée des scores par statut professionnel\n",
    "plt.figure(figsize=(8, 5))\n",
    "sns.countplot(data=HR, x='EmploymentStatus', hue='PerformanceScore', palette='Set2')\n",
    "plt.title(\"Répartition des scores de performance par statut professionnel\")\n",
    "plt.xlabel(\"Statut professionnel\")\n",
    "plt.ylabel(\"Nombre d'employés\")\n",
    "plt.xticks(rotation=45)\n",
    "plt.legend(title=\"Score de performance\")\n",
    "plt.tight_layout()\n",
    "plt.show()\n"
   ]
  },
  {
   "cell_type": "markdown",
   "id": "783fd821-bb6c-486b-9699-d00e9e20968b",
   "metadata": {},
   "source": [
    "Les employés actifs et ceux qui ont volontairement terminés ont un score moyen similaire d’environ 3, avec une majorité en “Fully Meets” (78-83%).\n",
    "\n",
    "Ceux du statut “Terminated for Cause” affichent une moyenne plus basse (2.5), avec une part importante en “PIP” (12.5%) et “Needs Improvement” (31.2%).\n",
    "\n",
    "Conclusion : Le statut “Terminated for Cause” correspond à des performances nettement plus faibles, ce qui confirme la cohérence des données et peut aider à cibler les actions RH."
   ]
  },
  {
   "cell_type": "markdown",
   "id": "38bad694-ef8e-4a51-a4ba-e17c974b1159",
   "metadata": {},
   "source": [
    "### Conclusion\n",
    "\n",
    "Les performances varient significativement selon le sexe, le département et le statut professionnel.\n",
    "\n",
    "Les femmes tendent à afficher une meilleure performance moyenne que les hommes, avec moins de cas faibles.\n",
    "\n",
    "Les départements techniques (IT/IS, Software Engineering) ont de meilleurs scores moyens, tandis que le département \"Sales\" montre plus de difficultés.\n",
    "\n",
    "Le statut professionnel est un facteur clé : les employés appartenant au statut \"Terminated for Cause\" ont nettement des performances plus faibles.\n",
    "\n",
    "Le statut marital a peu d’influence sur la performance dans ce jeu de données.\n",
    "\n",
    "Cette étape confirme que la performance est liée à plusieurs facteurs démographiques et organisationnels, ce qui orientera les analyses plus fines et les recommandations."
   ]
  },
  {
   "cell_type": "markdown",
   "id": "861ce63d-9628-4d84-ba8d-039e7796abe4",
   "metadata": {
    "jp-MarkdownHeadingCollapsed": true
   },
   "source": [
    "## Analyse de la relation entre performance et certaines variables"
   ]
  },
  {
   "cell_type": "code",
   "execution_count": null,
   "id": "dbc869b9-56fe-49e2-8d0d-6ecb79b9c3fb",
   "metadata": {},
   "outputs": [],
   "source": [
    "### Corrélations avec d'autres facteurs\n",
    "# Sélection des variables d'intérêt\n",
    "vars_corr = ['PerfScoreID', 'EngagementSurvey', 'EmpSatisfaction', 'Salary']\n",
    "\n",
    "# Calcul de la matrice de corrélation\n",
    "corr_matrix = HR[vars_corr].corr()\n",
    "\n",
    "# Affichage de la matrice avec seaborn\n",
    "plt.figure(figsize=(8,6))\n",
    "sns.heatmap(corr_matrix, annot=True, cmap='coolwarm', fmt=\".2f\")\n",
    "plt.title(\"Corrélations entre performance et autres facteurs\")\n",
    "plt.show()"
   ]
  },
  {
   "cell_type": "markdown",
   "id": "75c53690-9edb-4c13-b7cb-dbf18be55587",
   "metadata": {},
   "source": [
    "La performance (PerfScoreID) est modérément corrélée à l’engagement des employés (EngagementSurvey) avec un coefficient de 0.54, ce qui indique qu’un meilleur engagement tend à s’accompagner d’une meilleure performance.\n",
    "\n",
    "La satisfaction des employés (EmpSatisfaction) est aussi positivement liée à la performance, mais de façon plus faible (0.30).\n",
    "\n",
    "Le salaire montre une corrélation faible (0.13) avec la performance, suggérant que la rémunération n’est pas un facteur principal ou que la relation est plus complexe."
   ]
  },
  {
   "cell_type": "markdown",
   "id": "4c09dbe5-fc69-4080-8cb0-6d1e2101408a",
   "metadata": {},
   "source": [
    "### Performance et Engagement des employés"
   ]
  },
  {
   "cell_type": "code",
   "execution_count": null,
   "id": "9d778823-bfaf-4977-869e-e35df69a1feb",
   "metadata": {},
   "outputs": [],
   "source": [
    "plt.scatter(HR['PerfScoreID'], HR['EngagementSurvey'])\n",
    "plt.title('Performance vs Engagement Survey')\n",
    "plt.xlabel('Performance Score')\n",
    "plt.ylabel('Engagement Survey')\n",
    "plt.tight_layout()\n",
    "plt.show()\n",
    "\n",
    "# Calculer le coefficient de corrélation de Spearman et la valeur p\n",
    "spearman_corr, spearman_p_value = spearmanr(HR['PerfScoreID'], HR['EngagementSurvey'])\n",
    "print(f\"Coefficient de corrélation de Spearman: {spearman_corr}\")\n",
    "print(f\"Valeur p: {spearman_p_value}\")"
   ]
  },
  {
   "cell_type": "markdown",
   "id": "4d36ee75-7040-4780-9742-c0cca429de47",
   "metadata": {},
   "source": [
    "Cette visualisation et ce test confirment egalement qu'il y a une relation modédément positive entre la performance et l’engagement des employés. Alors plus les employé se sentent engagés dans leur travail et dans l'entreprise, meuilleures sont leurs performance. \n",
    "\n",
    "Les efforts pour renforcer l'engagement (clarté des objectifs, reconnaissance, sens du travail) peuvent avoir un impact direct et mesurable sur la productivité."
   ]
  },
  {
   "cell_type": "markdown",
   "id": "7a8c53f1-1585-469e-990e-2ea74a3db012",
   "metadata": {},
   "source": [
    "### Performance et Satisfaction des employés"
   ]
  },
  {
   "cell_type": "code",
   "execution_count": null,
   "id": "5f50c387-94e7-4c96-9b49-25acf9355bb1",
   "metadata": {},
   "outputs": [],
   "source": [
    "plt.scatter(HR['PerfScoreID'], HR['EmpSatisfaction'])\n",
    "plt.title('Performance vs Satisfaction employé')\n",
    "plt.xlabel('Performance Score')\n",
    "plt.ylabel('Satisfaction des employés')\n",
    "plt.tight_layout()\n",
    "plt.show()\n",
    "\n",
    "# Calculer le coefficient de corrélation de Spearman et la valeur p\n",
    "spearman_corr, spearman_p_value = spearmanr(HR['PerfScoreID'], HR['EmpSatisfaction'])\n",
    "print(f\"Coefficient de corrélation de Spearman: {spearman_corr}\")\n",
    "print(f\"Valeur p: {spearman_p_value}\")"
   ]
  },
  {
   "cell_type": "markdown",
   "id": "794b6272-0d6a-49c1-a19b-3e0923f21cca",
   "metadata": {},
   "source": [
    "Il existe une légère relation positive et significative entre la satisfaction et la performance des enployés. Autrement dit, Les employés satisfaits de leur environnement, de leurs conditions de travail ou de leurs missions tendent à être un peu plus performants. \n",
    "\n",
    "Ameliorer le climat de travail (conditions materielles, management, bien-être) peut contribuer à une meilleure performance."
   ]
  },
  {
   "cell_type": "markdown",
   "id": "f746d4af-c5c9-4667-aa73-e25b76a10ab1",
   "metadata": {},
   "source": [
    "### Performance et Salaire des employés"
   ]
  },
  {
   "cell_type": "code",
   "execution_count": null,
   "id": "8c870609-6ec9-4af0-97cb-5a212b8c8231",
   "metadata": {},
   "outputs": [],
   "source": [
    "plt.scatter(HR['PerfScoreID'], HR['Salary'])\n",
    "plt.title('Performance vs Salaire')\n",
    "plt.xlabel('Performance Score')\n",
    "plt.ylabel('Salaire')\n",
    "plt.tight_layout()\n",
    "plt.show()\n",
    "\n",
    "# Calculer le coefficient de corrélation de Spearman et la valeur p\n",
    "spearman_corr, spearman_p_value = spearmanr(HR['PerfScoreID'], HR['Salary'])\n",
    "print(f\"Coefficient de corrélation de Spearman: {spearman_corr}\")\n",
    "print(f\"Valeur p: {spearman_p_value}\")"
   ]
  },
  {
   "cell_type": "markdown",
   "id": "1ab5dd28-ec2f-48c3-a9f1-cc547f3f329f",
   "metadata": {},
   "source": [
    "Comme on peut le constaté, il n'y a pas de lien significatif entre le salaire et la performance. Ainsi, à salaire équivalent, les performances varient peu. Inversement, un salaire plus élevé ne garantit pas une meilleure performance.\n",
    "Il en ressort que l'augmentation de salaire seule n'améliore pas necessairement la performance. Vaut mieux cibler des leviers motivationnels plus qualitatifs comme l'engagement ou la reconnaissance.\n",
    "\n",
    "\n",
    "### En definitif, pour **améliorer les performances, il est plus efficace d'agir sur la motivation, l'implication et le climat de travail, plutôt que sur la remuneration seule.**"
   ]
  },
  {
   "cell_type": "markdown",
   "id": "470e484b-9df5-4c93-84fd-c25a139ae32a",
   "metadata": {
    "jp-MarkdownHeadingCollapsed": true
   },
   "source": [
    "# 🚨 Identification des profils atypiques\n",
    "\n",
    "Nous identifions ici deux groupes clés :\n",
    "- Les top performers (ex. : top 10%)\n",
    "- Les underperformers (ex. : bottom 10%)\n",
    "\n",
    "Objectif : comprendre leurs caractéristiques et ce qui les distingue du reste des employés."
   ]
  },
  {
   "cell_type": "code",
   "execution_count": null,
   "id": "280d0b67-013f-415d-9884-3c23ed12a601",
   "metadata": {},
   "outputs": [],
   "source": [
    "# Employés avec score = 1 (PIP)\n",
    "outliers_low = HR[HR['PerfScoreID'] == 1]\n",
    "\n",
    "# Employés avec score = 4 (Exceeds)\n",
    "outliers_high = HR[HR['PerfScoreID'] == 4]\n",
    "\n",
    "print(\"Employés sous-performants (PIP) :\", len(outliers_low))\n",
    "print(\"Employés très performants (Exceeds) :\", len(outliers_high))\n"
   ]
  },
  {
   "cell_type": "markdown",
   "id": "1aba69d3-ba2a-4c59-8014-54a7929cb0a4",
   "metadata": {},
   "source": [
    "\n",
    "Ces profils méritent une attention particulière : un suivi RH peut être envisagé en croisant ces résultats avec leur engagement, leur satisfaction et leur salaire."
   ]
  },
  {
   "cell_type": "code",
   "execution_count": null,
   "id": "1457d045-cdd0-4264-be11-cebbc8f15bd5",
   "metadata": {},
   "outputs": [],
   "source": [
    "# Création d’un indicateur de type d’outlier\n",
    "def classer_performance(score):\n",
    "    if score == 1:\n",
    "        return 'Sous-performant'\n",
    "    elif score == 4:\n",
    "        return 'Très performant'\n",
    "    else:\n",
    "        return 'Normal'\n",
    "\n",
    "HR['ProfilPerformance'] = HR['PerfScoreID'].apply(classer_performance)\n",
    "\n",
    "# Variables à comparer\n",
    "vars_to_compare = ['Salary', 'EngagementSurvey', 'EmpSatisfaction']\n",
    "\n",
    "# Moyennes par groupe\n",
    "comparaison = HR.groupby('ProfilPerformance')[vars_to_compare].mean().round(2)\n",
    "comparaison\n"
   ]
  },
  {
   "cell_type": "markdown",
   "id": "930b293e-f63f-44e2-96bc-4a6181bd1396",
   "metadata": {},
   "source": [
    "\n",
    "\n",
    "Les employés très performants ont un salaire moyen le plus élevé (77 145) et un plus haut niveau d’engagement (4.48) et de satisfaction (4.11). A contrario, les sous-performants se distinguent par un salaire plus faible (57 956) avec un engagement et une satisfaction nettement plus bas (respectivement 2.40 et 2.46)\n",
    "\n",
    "En definitif, l'engagement et la satisfaction semblent être des facteurs prédictifs majeurs de la performance. Ces résultats suggèrent que l'entreprise pourrait agir sur ces leviers RH pour réduire les cas de sous-performance. Ainsi, l’entreprise devrait alors : \n",
    "- Investir dans les leviers d’engagement et de satisfaction pour améliorer la performance globale.\n",
    "- Accompagner les employés en difficulté avec des actions ciblées (écoute, formation, motivation).\n",
    "- Analyser les cas très performants pour reproduire les bonnes pratiques dans d’autres équipes."
   ]
  },
  {
   "cell_type": "code",
   "execution_count": null,
   "id": "89cda598-181a-4823-b51e-e8afef3ab251",
   "metadata": {},
   "outputs": [],
   "source": [
    "# Visualisation avec un boxplot\n",
    "plt.figure(figsize=(6, 5))\n",
    "sns.boxplot(x=HR['PerformanceScore'], color='lightcoral')\n",
    "plt.title(\"Détection des outliers via les scores de performance\")\n",
    "plt.xlabel(\"Score de performance (1 = PIP, 4 = Exceeds)\")\n",
    "plt.show()"
   ]
  },
  {
   "cell_type": "code",
   "execution_count": null,
   "id": "34763d6f-23c8-406b-9951-959c62da1969",
   "metadata": {},
   "outputs": [],
   "source": [
    "# Employés en contre-performance\n",
    "outliers_perf = HR[HR['PerfScoreID'].isin([1, 2])]\n",
    "\n",
    "# Affichage\n",
    "outliers_perf[['Employee_Name', 'Department', 'PerformanceScore', 'EmploymentStatus', 'EmpSatisfaction', 'EngagementSurvey',  'Absences']].head()\n"
   ]
  },
  {
   "cell_type": "markdown",
   "id": "7ebe9870-9f5f-428c-bb7f-22ea0028ef82",
   "metadata": {},
   "source": [
    "# Recommandations RH\n",
    "\n",
    "À partir de l’analyse des données, voici quelques recommandations :\n",
    "\n",
    "- **Retenir les top performers**\n",
    "\n",
    "   - Identifier les conditions (salaires, départements, satisfaction) qui favorisent leur succès\n",
    "   - Renforcer les leviers d’engagement et d’évolution\n",
    "\n",
    "\n",
    "- **Améliorer les performances basses**\n",
    "\n",
    "   - Repérer les départements ou groupes à faible performance\n",
    "   - Mener des entretiens RH, renforcer la formation ou revoir l’organisation\n",
    "\n",
    "\n",
    "- **Réduire les écarts entre groupes**\n",
    "\n",
    "   - Mettre en place des politiques d’équité salariale ou d’accès à la formation\n",
    "   - Tester des actions pilotes dans les départements sous-performants\n",
    "\n",
    "\n",
    "## Conclusion\n",
    "Ce projet montre comment l’analyse de données RH peut soutenir les décisions stratégiques de l’entreprise en identifiant les leviers de performance et d’engagement.\n"
   ]
  },
  {
   "cell_type": "markdown",
   "id": "f915ec9b-5b82-4024-8bb9-d43c17a4306a",
   "metadata": {},
   "source": [
    "# Synthèse du projet"
   ]
  },
  {
   "cell_type": "markdown",
   "id": "93e2d055-7356-4e7a-ab93-a02f61f67b71",
   "metadata": {},
   "source": [
    "Ce projet visait à explorer les facteurs de performance des employés à travers une analyse de données RH. Les étapes ont permis de décrire la population (âge, sexe, statut, département…), d'analyser la distribution des performances, de comparer les scores selon des groupes-clés, d'explorer les liens avec l’engagement, la satisfaction et le salaire, d'identifier les profils atypiques (sous-performants / très performants) et de formuler des recommandations RH concrètes. \n",
    "\n",
    "Enfin, on peut conclure que la performance des employés semble étroitement liée à leur niveau d’engagement et de satisfaction. Alors, les actions RH devraient donc se concentrer sur l’amélioration de ces deux axes pour réduire les écarts de performance, de fidéliser les profils à fort potentiel et de créer un environnement de travail propice à l’excellence."
   ]
  },
  {
   "cell_type": "markdown",
   "id": "56297e9d-0c40-46e8-a521-9ba673abc40a",
   "metadata": {},
   "source": [
    "## BONUS : Zoom sur les départs"
   ]
  },
  {
   "cell_type": "code",
   "execution_count": null,
   "id": "e0ee9cb5-b503-4777-8d8f-f2460ca88e1a",
   "metadata": {},
   "outputs": [],
   "source": [
    "# 1. Filtrage des employés partis\n",
    "HR_departed = HR[HR['EmploymentStatus'] != 'Active']\n",
    "HR_active = HR[HR['EmploymentStatus'] == 'Active']\n",
    "\n",
    "# 2. Répartition des motifs de départ\n",
    "plt.figure(figsize=(8,5))\n",
    "sns.countplot(data=HR_departed, y='TermReason', palette='coolwarm', order=HR_departed['TermReason'].value_counts().index)\n",
    "plt.title(\"Motifs de départ des employés\")\n",
    "plt.xlabel(\"Nombre d'employés\")\n",
    "plt.ylabel(\"Raison\")\n",
    "plt.tight_layout()\n",
    "plt.show()\n",
    "\n",
    "# 3. Répartition des départs par département\n",
    "plt.figure(figsize=(8,5))\n",
    "sns.countplot(data=HR_departed, y='Department', palette='Set1', order=HR_departed['Department'].value_counts().index)\n",
    "plt.title(\"Départs par département\")\n",
    "plt.xlabel(\"Nombre de départs\")\n",
    "plt.ylabel(\"Département\")\n",
    "plt.tight_layout()\n",
    "plt.show()\n"
   ]
  },
  {
   "cell_type": "code",
   "execution_count": null,
   "id": "7f273aec-ed91-43bd-a95f-f5ae6c309deb",
   "metadata": {},
   "outputs": [],
   "source": []
  }
 ],
 "metadata": {
  "kernelspec": {
   "display_name": "Python 3 (ipykernel)",
   "language": "python",
   "name": "python3"
  },
  "language_info": {
   "codemirror_mode": {
    "name": "ipython",
    "version": 3
   },
   "file_extension": ".py",
   "mimetype": "text/x-python",
   "name": "python",
   "nbconvert_exporter": "python",
   "pygments_lexer": "ipython3",
   "version": "3.12.7"
  }
 },
 "nbformat": 4,
 "nbformat_minor": 5
}
